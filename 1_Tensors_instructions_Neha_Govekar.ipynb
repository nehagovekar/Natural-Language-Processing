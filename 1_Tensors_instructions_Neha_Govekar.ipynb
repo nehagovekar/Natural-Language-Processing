{
  "cells": [
    {
      "cell_type": "markdown",
      "id": "Q4vVUgxxDJD0",
      "metadata": {
        "id": "Q4vVUgxxDJD0"
      },
      "source": [
        "# <font color = green>**HW1 - 15 Points** </font>\n",
        "- **You have to submit two files for this part of the HW**\n",
        "  >(1) ipynb (colab notebook) and<br>\n",
        "  >(2) pdf file (pdf version of the colab file).**\n",
        "- **Files should be named as follows**:\n",
        ">FirstName_LastName_HW_1**\n"
      ]
    },
    {
      "cell_type": "code",
      "source": [
        "from google.colab import drive\n",
        "drive.mount('/content/drive')"
      ],
      "metadata": {
        "colab": {
          "base_uri": "https://localhost:8080/"
        },
        "id": "ard9xn_RfnWc",
        "outputId": "b5d474b4-0bd6-43e5-899b-1795d1412277"
      },
      "id": "ard9xn_RfnWc",
      "execution_count": 1,
      "outputs": [
        {
          "output_type": "stream",
          "name": "stdout",
          "text": [
            "Mounted at /content/drive\n"
          ]
        }
      ]
    },
    {
      "cell_type": "code",
      "source": [],
      "metadata": {
        "id": "k9qZaSdk2Uh-"
      },
      "id": "k9qZaSdk2Uh-",
      "execution_count": null,
      "outputs": []
    },
    {
      "cell_type": "code",
      "execution_count": 2,
      "id": "IsWkg1CufBwg",
      "metadata": {
        "id": "IsWkg1CufBwg"
      },
      "outputs": [],
      "source": [
        "import torch\n",
        "import time"
      ]
    },
    {
      "cell_type": "markdown",
      "id": "2Voz6l5RUZRh",
      "metadata": {
        "id": "2Voz6l5RUZRh"
      },
      "source": [
        "# <font color = green>**Q1 : Create Tensor (1/2 Point)**\n",
        " Create a torch Tensor of shape (5, 3) which is filled with zeros. Modify the tensor to set element (0, 2) to 10 and element (2, 0)  to 100."
      ]
    },
    {
      "cell_type": "code",
      "execution_count": 3,
      "id": "bI9MwTaamhis",
      "metadata": {
        "id": "bI9MwTaamhis"
      },
      "outputs": [],
      "source": [
        "my_tensor = torch.zeros(5,3)"
      ]
    },
    {
      "cell_type": "code",
      "execution_count": 4,
      "id": "7QEV2uq-yqZK",
      "metadata": {
        "colab": {
          "base_uri": "https://localhost:8080/"
        },
        "id": "7QEV2uq-yqZK",
        "outputId": "f0ebcc0a-1a0a-4784-80bc-2848af2baf29"
      },
      "outputs": [
        {
          "output_type": "execute_result",
          "data": {
            "text/plain": [
              "torch.Size([5, 3])"
            ]
          },
          "metadata": {},
          "execution_count": 4
        }
      ],
      "source": [
        "my_tensor.shape"
      ]
    },
    {
      "cell_type": "code",
      "execution_count": 5,
      "id": "yAxzhRVGyr6c",
      "metadata": {
        "colab": {
          "base_uri": "https://localhost:8080/"
        },
        "id": "yAxzhRVGyr6c",
        "outputId": "fd6e85d5-6c2a-4ca5-d05e-13141871b10f"
      },
      "outputs": [
        {
          "output_type": "execute_result",
          "data": {
            "text/plain": [
              "tensor([[0., 0., 0.],\n",
              "        [0., 0., 0.],\n",
              "        [0., 0., 0.],\n",
              "        [0., 0., 0.],\n",
              "        [0., 0., 0.]])"
            ]
          },
          "metadata": {},
          "execution_count": 5
        }
      ],
      "source": [
        "my_tensor"
      ]
    },
    {
      "cell_type": "code",
      "execution_count": 6,
      "id": "FCM4GuyWylQV",
      "metadata": {
        "id": "FCM4GuyWylQV"
      },
      "outputs": [],
      "source": [
        "# Manually set the value at the first row and third column to 10,\n",
        "# and the value at the third row and first column to 100 in the tensor named \"my_tensor\".\n",
        "my_tensor[0,2]=10\n",
        "my_tensor[2,0]=100\n"
      ]
    },
    {
      "cell_type": "code",
      "execution_count": 7,
      "id": "ZdEftwuPyyx9",
      "metadata": {
        "colab": {
          "base_uri": "https://localhost:8080/"
        },
        "id": "ZdEftwuPyyx9",
        "outputId": "bd34b89d-c62c-4ac4-c2c9-1aa7f7b02817"
      },
      "outputs": [
        {
          "output_type": "execute_result",
          "data": {
            "text/plain": [
              "tensor([[  0.,   0.,  10.],\n",
              "        [  0.,   0.,   0.],\n",
              "        [100.,   0.,   0.],\n",
              "        [  0.,   0.,   0.],\n",
              "        [  0.,   0.,   0.]])"
            ]
          },
          "metadata": {},
          "execution_count": 7
        }
      ],
      "source": [
        "my_tensor"
      ]
    },
    {
      "cell_type": "markdown",
      "id": "6Eoa6rF80ZTa",
      "metadata": {
        "id": "6Eoa6rF80ZTa"
      },
      "source": [
        "# <font color = green>**Q2: Reshape tensor (1/2 Point)**\n",
        "You have following tensor as input:\n",
        "\n",
        "```x=torch.tensor([0, 1, 2, 3, 4, 5, 6, 7, 8, 9, 10, 11, 12, 13, 14, 15, 16, 17, 18, 19, 20, 21, 22, 23])```\n",
        "\n",
        "Using only reshaping functions (like view, reshape, transpose, permute), you need to get at the following tensor as output:\n",
        "\n",
        "```\n",
        "tensor([[ 0,  4,  8, 12, 16, 20],\n",
        "        [ 1,  5,  9, 13, 17, 21],\n",
        "        [ 2,  6, 10, 14, 18, 22],\n",
        "        [ 3,  7, 11, 15, 19, 23]])\n",
        "```\n",
        "\n"
      ]
    },
    {
      "cell_type": "code",
      "execution_count": 8,
      "id": "LDBQ6kYZ-JRV",
      "metadata": {
        "id": "LDBQ6kYZ-JRV"
      },
      "outputs": [],
      "source": [
        "x=torch.tensor([0, 1, 2, 3, 4, 5, 6, 7, 8, 9, 10, 11, 12, 13, 14, 15, 16, 17, 18, 19, 20, 21, 22, 23])"
      ]
    },
    {
      "cell_type": "code",
      "execution_count": 9,
      "id": "b6_SdFS-ke_x",
      "metadata": {
        "colab": {
          "base_uri": "https://localhost:8080/"
        },
        "id": "b6_SdFS-ke_x",
        "outputId": "3bee040c-36a3-4cbf-a0ac-9e17cecefc37"
      },
      "outputs": [
        {
          "output_type": "execute_result",
          "data": {
            "text/plain": [
              "tensor([[ 0,  1,  2,  3,  4,  5],\n",
              "        [ 6,  7,  8,  9, 10, 11],\n",
              "        [12, 13, 14, 15, 16, 17],\n",
              "        [18, 19, 20, 21, 22, 23]])"
            ]
          },
          "metadata": {},
          "execution_count": 9
        }
      ],
      "source": [
        "x = x.view(4,6)\n",
        "x"
      ]
    },
    {
      "cell_type": "markdown",
      "id": "dnw5qi7A4ysc",
      "metadata": {
        "id": "dnw5qi7A4ysc"
      },
      "source": [
        "# <font color = green>**Q3: Slice tensor (1Point)**\n",
        "\n",
        "- Slice the tensor x to get the following\n",
        ">- last row of x\n",
        ">- fourth column of x\n",
        ">- first three rows and first two columns - the shape of subtensor should be (3,2)\n",
        ">- odd valued rows and columns"
      ]
    },
    {
      "cell_type": "code",
      "execution_count": 10,
      "id": "STbUdF0J5IBD",
      "metadata": {
        "colab": {
          "base_uri": "https://localhost:8080/"
        },
        "id": "STbUdF0J5IBD",
        "outputId": "f914f90c-12e2-49be-a434-62661bfff0b0"
      },
      "outputs": [
        {
          "output_type": "execute_result",
          "data": {
            "text/plain": [
              "tensor([[ 1,  2,  3,  4,  5],\n",
              "        [ 6,  7,  8,  8, 10],\n",
              "        [11, 12, 13, 14, 15]])"
            ]
          },
          "metadata": {},
          "execution_count": 10
        }
      ],
      "source": [
        "x = torch.tensor([[1, 2, 3, 4, 5], [6, 7, 8, 8, 10], [11, 12, 13, 14, 15]])\n",
        "x"
      ]
    },
    {
      "cell_type": "code",
      "execution_count": 11,
      "id": "mgHPm0qP5ZU3",
      "metadata": {
        "colab": {
          "base_uri": "https://localhost:8080/"
        },
        "id": "mgHPm0qP5ZU3",
        "outputId": "57143fd9-4a16-4df0-9201-83fe3e8eca30"
      },
      "outputs": [
        {
          "output_type": "execute_result",
          "data": {
            "text/plain": [
              "torch.Size([3, 5])"
            ]
          },
          "metadata": {},
          "execution_count": 11
        }
      ],
      "source": [
        "x.shape"
      ]
    },
    {
      "cell_type": "code",
      "execution_count": 12,
      "id": "hzQRs79A5JGd",
      "metadata": {
        "colab": {
          "base_uri": "https://localhost:8080/"
        },
        "id": "hzQRs79A5JGd",
        "outputId": "126ba2ed-34ac-46ac-b59b-d77f583d6f93"
      },
      "outputs": [
        {
          "output_type": "execute_result",
          "data": {
            "text/plain": [
              "tensor([11, 12, 13, 14, 15])"
            ]
          },
          "metadata": {},
          "execution_count": 12
        }
      ],
      "source": [
        "# Student Task: Retrieve the last row of the tensor 'x'\n",
        "# Hint: Negative indexing can help you select rows or columns counting from the end of the tensor.\n",
        "# Think about how you can select all columns for the desired row.\n",
        "last_row = x[-1,:]\n",
        "last_row"
      ]
    },
    {
      "cell_type": "code",
      "execution_count": 13,
      "id": "-mb_Et866ZEW",
      "metadata": {
        "colab": {
          "base_uri": "https://localhost:8080/"
        },
        "id": "-mb_Et866ZEW",
        "outputId": "50b7288e-c8ae-4aaf-a307-14d0ae690784"
      },
      "outputs": [
        {
          "output_type": "execute_result",
          "data": {
            "text/plain": [
              "tensor([ 4,  8, 14])"
            ]
          },
          "metadata": {},
          "execution_count": 13
        }
      ],
      "source": [
        "# Student Task: Retrieve the fourth column of the tensor 'x'\n",
        "# Hint: Pay attention to the indexing for both rows and columns.\n",
        "# Remember that indexing in Python starts from zero.\n",
        "fourth_column = x[:,3]\n",
        "fourth_column"
      ]
    },
    {
      "cell_type": "code",
      "execution_count": 14,
      "id": "c2VaG6Y16jsA",
      "metadata": {
        "colab": {
          "base_uri": "https://localhost:8080/"
        },
        "id": "c2VaG6Y16jsA",
        "outputId": "9ce188a4-ac0c-4ac1-f14c-ec2d773fba47"
      },
      "outputs": [
        {
          "output_type": "execute_result",
          "data": {
            "text/plain": [
              "tensor([[ 1,  2],\n",
              "        [ 6,  7],\n",
              "        [11, 12]])"
            ]
          },
          "metadata": {},
          "execution_count": 14
        }
      ],
      "source": [
        "# Student Task: Retrieve the first 3 rows and first 2 columns from the tensor 'x'.\n",
        "# Hint: Use slicing to extract the required subset of rows and columns.\n",
        "first_3_rows_2_columns = x[:3,:2]# CODE HERE\n",
        "first_3_rows_2_columns"
      ]
    },
    {
      "cell_type": "code",
      "execution_count": 15,
      "id": "RHnSUpxs7O82",
      "metadata": {
        "colab": {
          "base_uri": "https://localhost:8080/"
        },
        "id": "RHnSUpxs7O82",
        "outputId": "dcad5686-88dc-480b-ac9f-2811c8ebe751"
      },
      "outputs": [
        {
          "output_type": "execute_result",
          "data": {
            "text/plain": [
              "tensor([[ 1,  3,  5],\n",
              "        [11, 13, 15]])"
            ]
          },
          "metadata": {},
          "execution_count": 15
        }
      ],
      "source": [
        "# Student Task: Retrieve the rows and columns with odd-indexed positions from the tensor 'x'.\n",
        "# Hint: Use stride slicing to extract the required subset of rows and columns with odd indices.\n",
        "odd_valued_rows_columns = x[::2,::2]# CODE HERE\n",
        "odd_valued_rows_columns"
      ]
    },
    {
      "cell_type": "markdown",
      "id": "uSj20OEuf6bf",
      "metadata": {
        "id": "uSj20OEuf6bf"
      },
      "source": [
        "#  <font color = green>**Q4 -Normalize Function (1/2 Points)**<font>\n",
        "\n",
        "Write the function that normalizes the columns of a matrix. You have to compute the mean and standard deviation of each column. Then for each element of the column, you subtract the mean and divide by the standard deviation."
      ]
    },
    {
      "cell_type": "code",
      "execution_count": 16,
      "id": "8L9JBFNilkWt",
      "metadata": {
        "id": "8L9JBFNilkWt"
      },
      "outputs": [],
      "source": [
        "# Given Data\n",
        "x = [[ 3,  60,  100, -100],\n",
        "     [ 2,  20,  600, -600],\n",
        "     [-5,  50,  900, -900]]"
      ]
    },
    {
      "cell_type": "code",
      "execution_count": 17,
      "id": "iRrhopVBl-0q",
      "metadata": {
        "id": "iRrhopVBl-0q"
      },
      "outputs": [],
      "source": [
        "# Convert to PyTorch Tensor and set to float\n",
        "X = torch.tensor(x)\n",
        "X= X.float()"
      ]
    },
    {
      "cell_type": "code",
      "execution_count": 18,
      "id": "S2MaocHxmEQJ",
      "metadata": {
        "colab": {
          "base_uri": "https://localhost:8080/"
        },
        "id": "S2MaocHxmEQJ",
        "outputId": "fef8c050-ebde-4bd1-adb9-df9c015adfd0"
      },
      "outputs": [
        {
          "output_type": "stream",
          "name": "stdout",
          "text": [
            "torch.Size([3, 4])\n",
            "torch.float32\n"
          ]
        }
      ],
      "source": [
        "# Print shape and data type for verification\n",
        "print(X.shape)\n",
        "print(X.dtype)"
      ]
    },
    {
      "cell_type": "code",
      "execution_count": 19,
      "id": "rPgb1L9RmQAU",
      "metadata": {
        "colab": {
          "base_uri": "https://localhost:8080/"
        },
        "id": "rPgb1L9RmQAU",
        "outputId": "d449a154-2355-4367-d4aa-e1be2028f408"
      },
      "outputs": [
        {
          "output_type": "execute_result",
          "data": {
            "text/plain": [
              "tensor([  4.3589,  20.8167, 404.1452, 404.1452])"
            ]
          },
          "metadata": {},
          "execution_count": 19
        }
      ],
      "source": [
        "# Compute and display the mean and standard deviation of each column for reference\n",
        "X.mean(axis = 0)\n",
        "X.std(axis = 0)"
      ]
    },
    {
      "cell_type": "code",
      "execution_count": 20,
      "id": "qnM87Db1mqFH",
      "metadata": {
        "colab": {
          "base_uri": "https://localhost:8080/"
        },
        "id": "qnM87Db1mqFH",
        "outputId": "fe9bb475-79eb-4b82-c5b6-9a416c87ffa0"
      },
      "outputs": [
        {
          "output_type": "execute_result",
          "data": {
            "text/plain": [
              "tensor([  4.3589,  20.8167, 404.1452, 404.1452])"
            ]
          },
          "metadata": {},
          "execution_count": 20
        }
      ],
      "source": [
        "X.std(axis = 0)"
      ]
    },
    {
      "cell_type": "markdown",
      "source": [
        "- Your task starts here\n",
        "- Your normalize_matrix function should take a PyTorch tensor x as input.\n",
        "- It should return a tensor where the columns are normalized.\n",
        "- After implementing your function, use the code provided to verify if the mean for each column in Z is close to zero and the standard deviation is 1."
      ],
      "metadata": {
        "id": "Yy2hehDnJHOq"
      },
      "id": "Yy2hehDnJHOq"
    },
    {
      "cell_type": "code",
      "execution_count": 21,
      "id": "mwq8qnqFlu9V",
      "metadata": {
        "id": "mwq8qnqFlu9V"
      },
      "outputs": [],
      "source": [
        "def normalize_matrix(x):\n",
        "  # Calculate the mean along each column (think carefully , you will take mean along axis = 0 or 1)\n",
        "  mean = x.mean(axis=0)# CODE HERE\n",
        "\n",
        "  # Calculate the standard deviation along each column\n",
        "  std = x.std(axis=0)# CODE HERE\n",
        "\n",
        "  # Normalize each element in the columns by subtracting the mean and dividing by the standard deviation\n",
        "  y = (x-mean)/std\n",
        "\n",
        "  return y  # Return the normalized matrix\n",
        "\n"
      ]
    },
    {
      "cell_type": "code",
      "execution_count": 22,
      "id": "m027Qcgwm9OL",
      "metadata": {
        "colab": {
          "base_uri": "https://localhost:8080/"
        },
        "id": "m027Qcgwm9OL",
        "outputId": "4f0e0e43-814e-4837-8953-044aee76d558"
      },
      "outputs": [
        {
          "output_type": "execute_result",
          "data": {
            "text/plain": [
              "tensor([[ 0.6882,  0.8006, -1.0722,  1.0722],\n",
              "        [ 0.4588, -1.1209,  0.1650, -0.1650],\n",
              "        [-1.1471,  0.3203,  0.9073, -0.9073]])"
            ]
          },
          "metadata": {},
          "execution_count": 22
        }
      ],
      "source": [
        "Z = normalize_matrix(X)\n",
        "Z"
      ]
    },
    {
      "cell_type": "code",
      "execution_count": 23,
      "id": "78-0D3KfnHel",
      "metadata": {
        "colab": {
          "base_uri": "https://localhost:8080/"
        },
        "id": "78-0D3KfnHel",
        "outputId": "1b1885c1-d10b-43fd-cee3-3ba877461998"
      },
      "outputs": [
        {
          "output_type": "execute_result",
          "data": {
            "text/plain": [
              "tensor([ 0.0000e+00,  4.9671e-08,  3.9736e-08, -3.9736e-08])"
            ]
          },
          "metadata": {},
          "execution_count": 23
        }
      ],
      "source": [
        "Z.mean(axis = 0)"
      ]
    },
    {
      "cell_type": "markdown",
      "metadata": {
        "id": "cc32848b"
      },
      "source": [
        "# <font color = 'green'>**Q5: In-place vs. Out-of-place Operations (1 Point)**\n",
        "\n",
        "1. Create a tensor `A` with values `[1, 2, 3]`.\n",
        "2. Perform an in-place addition (use `add_` method) of `5` to tensor `A`.\n",
        "3. Then, create another tensor `B` with values `[4, 5, 6]` and perform an out-of-place addition of `5`.\n",
        "\n",
        "**Print the memory addresses of `A` and `B` before and after the operations to demonstrate the difference in memory usage. Provide explanation**\n"
      ],
      "id": "cc32848b"
    },
    {
      "cell_type": "code",
      "execution_count": 24,
      "metadata": {
        "id": "19b3aaa5",
        "colab": {
          "base_uri": "https://localhost:8080/"
        },
        "outputId": "5a0d4ea3-ffdf-42fa-c8f9-c00325674792"
      },
      "outputs": [
        {
          "output_type": "stream",
          "name": "stdout",
          "text": [
            "Original memory address of A: <built-in method data_ptr of Tensor object at 0x7c7111bc5b20>\n",
            "Memory address of A after in-place addition: <built-in method data_ptr of Tensor object at 0x7c7111bc5b20>\n",
            "A after in-place addition: tensor([6, 7, 8])\n",
            "Original memory address of B: <built-in method data_ptr of Tensor object at 0x7c7111bc5b70>\n",
            "Memory address of B after out-of-place addition: <built-in method data_ptr of Tensor object at 0x7c7111bc5bc0>\n",
            "B after out-of-place addition: tensor([ 9, 10, 11])\n"
          ]
        }
      ],
      "source": [
        "A = torch.tensor([1, 2, 3])\n",
        "print('Original memory address of A:', A.data_ptr)\n",
        "A.add_(5)\n",
        "print('Memory address of A after in-place addition:', A.data_ptr)\n",
        "print('A after in-place addition:', A)\n",
        "\n",
        "B = torch.tensor([4, 5, 6])\n",
        "print('Original memory address of B:',B.data_ptr)\n",
        "B=B+5\n",
        "print('Memory address of B after out-of-place addition:', B.data_ptr)\n",
        "print('B after out-of-place addition:', B)\n"
      ],
      "id": "19b3aaa5"
    },
    {
      "cell_type": "markdown",
      "source": [
        "**Provide Explanation for above question here :**\n",
        "In place and Out of place operations basically have one major difference that in place operations update the same tensors while out of place operations createa another tensor and make change in it, leaving the original tensor unchanged. That is the reason you will see a change in memory address in out-of-place operations.\n"
      ],
      "metadata": {
        "id": "aXi2TsYVElqy"
      },
      "id": "aXi2TsYVElqy"
    },
    {
      "cell_type": "markdown",
      "metadata": {
        "id": "f57bb1a4"
      },
      "source": [
        "# <font color = 'green'>**Q6: Tensor Broadcasting (1 Point)**\n",
        "\n",
        "1. Create two tensors `X` with shape `(3, 1)` and `Y` with shape `(1, 3)`. Perform an addition operation on `X` and `Y`.\n",
        "2. Explain how broadcasting is applied in this operation by describing the shape changes that occur internally."
      ],
      "id": "f57bb1a4"
    },
    {
      "cell_type": "code",
      "execution_count": 25,
      "metadata": {
        "id": "699f9bd9",
        "colab": {
          "base_uri": "https://localhost:8080/"
        },
        "outputId": "64e85845-4efd-4bbd-9a9e-607666959c0d"
      },
      "outputs": [
        {
          "output_type": "stream",
          "name": "stdout",
          "text": [
            "Original shapes: torch.Size([3, 1]) torch.Size([1, 3])\n",
            "Result: tensor([[5, 6, 7],\n",
            "        [6, 7, 8],\n",
            "        [7, 8, 9]])\n",
            "Result shape: torch.Size([3, 3])\n"
          ]
        }
      ],
      "source": [
        "X = torch.tensor([[1], [2], [3]])\n",
        "Y = torch.tensor([[4, 5, 6]])\n",
        "\n",
        "print('Original shapes:', X.shape, Y.shape)\n",
        "result = X + Y\n",
        "print('Result:', result)\n",
        "print('Result shape:', result.shape)\n"
      ],
      "id": "699f9bd9"
    },
    {
      "cell_type": "markdown",
      "source": [
        "**Provide Explanation for above question here : Tensor X has shape (3,1) and Tensor Y has shape (1,3). The element wise sums of the elements has been done internally which gives a tensor of shape (3,3)\n",
        "\n"
      ],
      "metadata": {
        "id": "IblSVvPhE4-E"
      },
      "id": "IblSVvPhE4-E"
    },
    {
      "cell_type": "markdown",
      "metadata": {
        "id": "e1f2667e"
      },
      "source": [
        "# <font color = 'green'>**Q7: Linear Algebra Operations (1 Point)**\n",
        "\n",
        "1. Create two matrices `M1` and `M2` of compatible shapes for matrix multiplication. Perform the multiplication and print the result.\n",
        "2. Then, create two vectors `V1` and `V2` and compute their dot product.\n"
      ],
      "id": "e1f2667e"
    },
    {
      "cell_type": "code",
      "execution_count": 26,
      "metadata": {
        "colab": {
          "base_uri": "https://localhost:8080/"
        },
        "id": "d45aed18",
        "outputId": "3768a094-8db4-4a1f-a3ee-0f665b024d3f"
      },
      "outputs": [
        {
          "output_type": "stream",
          "name": "stdout",
          "text": [
            "Matrix multiplication result: tensor([[ 58,  64],\n",
            "        [139, 154]])\n",
            "Dot product: tensor(32)\n"
          ]
        }
      ],
      "source": [
        "M1 = torch.tensor([[1, 2, 3], [4, 5, 6]])\n",
        "M2 = torch.tensor([[7, 8], [9, 10], [11, 12]])\n",
        "mat_multiplication =  torch.matmul(M1,M2)\n",
        "print('Matrix multiplication result:', mat_multiplication)\n",
        "\n",
        "V1 = torch.tensor([1, 2, 3])\n",
        "V2 = torch.tensor([4, 5, 6])\n",
        "dot_product = torch.dot(V1,V2)\n",
        "print('Dot product:', dot_product)\n"
      ],
      "id": "d45aed18"
    },
    {
      "cell_type": "markdown",
      "metadata": {
        "id": "fe24a961"
      },
      "source": [
        "# <font color = 'green'>**Q8: Manipulating Tensor Shapes (1 Point)**\n",
        "\n",
        "Given a tensor `T` with shape `(2, 3, 4)`, demonstrate how to\n",
        "1. reshape it to `(3, 8)` using view,\n",
        "2. reshape it to `(4, 2, 3` using reshape,\n",
        "3. transpose the first and last dimensions using permute.\n",
        "4. explain what is the difference between reshape and view"
      ],
      "id": "fe24a961"
    },
    {
      "cell_type": "code",
      "execution_count": 27,
      "metadata": {
        "id": "0644b861",
        "colab": {
          "base_uri": "https://localhost:8080/"
        },
        "outputId": "7f99439b-8659-4f61-e301-125d10083722"
      },
      "outputs": [
        {
          "output_type": "stream",
          "name": "stdout",
          "text": [
            "T_view shape: torch.Size([3, 8])\n",
            "T_reshape shape: torch.Size([4, 2, 3])\n",
            "T_permute shape: torch.Size([4, 3, 2])\n"
          ]
        }
      ],
      "source": [
        "T = torch.rand(2, 3, 4)\n",
        "T_view =  T.view(3,8)# CODE HERE\n",
        "print('T_view shape:', T_view.shape)\n",
        "\n",
        "T_reshape =  T.reshape(4,2,3)\n",
        "print('T_reshape shape:', T_reshape.shape)\n",
        "\n",
        "T_permute =  T.permute(2,1,0)# CODE HERE\n",
        "print('T_permute shape:', T_permute.shape)"
      ],
      "id": "0644b861"
    },
    {
      "cell_type": "markdown",
      "source": [
        "**Provide Explanation for above question here :**\n",
        "\n"
      ],
      "metadata": {
        "id": "Lb-861xsFXHN"
      },
      "id": "Lb-861xsFXHN"
    },
    {
      "cell_type": "markdown",
      "metadata": {
        "id": "1d5c7b62"
      },
      "source": [
        "# <font color = 'green'>**Q9: Tensor Concatenation and Stacking (1 Point)**\n",
        "\n",
        "Create tensors `C1` and `C2` both with shape (2, 3).\n",
        "1. Concatenate them along dimension 0 and then along dimension 1. Print the shape of the resulting tensor.\n",
        "2. Afterwards, stack the same tensors alomng dimension 0  and print the shape of the resulting tensor.\n",
        "3. What is the difference between stacking and concatinating."
      ],
      "id": "1d5c7b62"
    },
    {
      "cell_type": "code",
      "execution_count": 28,
      "metadata": {
        "id": "69e2f7e0",
        "colab": {
          "base_uri": "https://localhost:8080/"
        },
        "outputId": "66283420-21c2-47a7-c590-53280c49be6f"
      },
      "outputs": [
        {
          "output_type": "stream",
          "name": "stdout",
          "text": [
            "Concatenated along dimension 0: torch.Size([4, 3])\n",
            "Concatenated along dimension 1: torch.Size([2, 6])\n",
            "Stacked tensor shape: torch.Size([2, 2, 3])\n"
          ]
        }
      ],
      "source": [
        "C1 = torch.rand(2, 3)\n",
        "C2 = torch.rand(2, 3)\n",
        "concatenated_dim0 =  torch.cat((C1, C2), dim=0)\n",
        "print('Concatenated along dimension 0:', concatenated_dim0.shape)\n",
        "\n",
        "concatenated_dim1 = torch.cat((C1, C2), dim=1)\n",
        "print('Concatenated along dimension 1:', concatenated_dim1.shape)\n",
        "\n",
        "stacked =  torch.stack((C1, C2), dim=0)\n",
        "print('Stacked tensor shape:', stacked.shape)\n"
      ],
      "id": "69e2f7e0"
    },
    {
      "cell_type": "markdown",
      "source": [
        ":**Explain the diffrence between concatinating and stacking here:\n",
        "\n",
        "The difference between concatinating and stacking is the change in the number of dimensions. During concatenation there is no change in dimensions, the tensors merge. But, for stacking the dimensions change as a new dimension is introduced.\n",
        "\n",
        "\n",
        "\n",
        "\n"
      ],
      "metadata": {
        "id": "kmKpP5xBCCgt"
      },
      "id": "kmKpP5xBCCgt"
    },
    {
      "cell_type": "markdown",
      "metadata": {
        "id": "0d0ed971"
      },
      "source": [
        "# <font color = 'green'>**Q10: Advanced Indexing and Slicing (1 Point)**\n",
        "\n",
        "1. Given a tensor `D` with shape (6, 6), extract elements that are greater than 0.5.\n",
        "2. Then, extract the second and fourth rows from `D`.\n",
        "3. Finally, extract a sub-tensor from the top-left 3x3 block."
      ],
      "id": "0d0ed971"
    },
    {
      "cell_type": "code",
      "execution_count": 29,
      "metadata": {
        "id": "df969523",
        "colab": {
          "base_uri": "https://localhost:8080/"
        },
        "outputId": "03121d7d-6b30-44cb-e1e2-279f7680d212"
      },
      "outputs": [
        {
          "output_type": "stream",
          "name": "stdout",
          "text": [
            "Elements greater than 0.5:\n",
            " tensor([0.9102, 0.9808, 0.6828, 0.9074, 0.7695, 0.7095, 0.7808, 0.7167, 0.5609,\n",
            "        0.7750, 0.5781, 0.7711, 0.6657, 0.5518, 0.7343, 0.6706])\n",
            "\n",
            "Second and fourth rows:\n",
            " tensor([[0.0502, 0.1717, 0.2241, 0.9074, 0.7695, 0.0103],\n",
            "        [0.7808, 0.0707, 0.0185, 0.0139, 0.7167, 0.2389]])\n",
            "\n",
            "Top-left 3x3 block:\n",
            "  tensor([[0.1509, 0.1571, 0.9102],\n",
            "        [0.0502, 0.1717, 0.2241],\n",
            "        [0.4503, 0.3182, 0.4467]])\n"
          ]
        }
      ],
      "source": [
        "D = torch.rand(6, 6)\n",
        "print('Elements greater than 0.5:\\n',  D[D > 0.5])\n",
        "\n",
        "second_fourth_rows =  D[[1, 3], :]\n",
        "print('\\nSecond and fourth rows:\\n', second_fourth_rows)\n",
        "\n",
        "top_left_3x3 = D[:3, :3]\n",
        "print('\\nTop-left 3x3 block:\\n ', top_left_3x3)\n"
      ],
      "id": "df969523"
    },
    {
      "cell_type": "markdown",
      "metadata": {
        "id": "c081cf3b"
      },
      "source": [
        "# <font color = 'green'>**Q11: Tensor Mathematical Operations (1 Point)**\n",
        "\n",
        "1. Create a tensor `G` with values from 0 to π in steps of π/4.\n",
        "2. Compute and print the sine, cosine, and tangent logarithm and the exponential of `G`."
      ],
      "id": "c081cf3b"
    },
    {
      "cell_type": "code",
      "execution_count": 30,
      "metadata": {
        "id": "4c22b354",
        "colab": {
          "base_uri": "https://localhost:8080/"
        },
        "outputId": "f10b1653-144d-4d13-8372-497c9e72b071"
      },
      "outputs": [
        {
          "output_type": "stream",
          "name": "stdout",
          "text": [
            "G: tensor([0.0000, 0.7854, 1.5708, 2.3562, 3.1416])\n",
            "Sine of G: tensor([ 0.0000e+00,  7.0711e-01,  1.0000e+00,  7.0711e-01, -8.7423e-08])\n",
            "Cosine of G: tensor([ 1.0000e+00,  7.0711e-01, -4.3711e-08, -7.0711e-01, -1.0000e+00])\n",
            "Tangent of G: tensor([ 0.0000e+00,  1.0000e+00, -2.2877e+07, -1.0000e+00,  8.7423e-08])\n",
            "Natural logarithm of G: tensor([   -inf, -0.2416,  0.4516,  0.8570,  1.1447])\n",
            "Exponential of G: tensor([ 1.0000,  2.1933,  4.8105, 10.5507, 23.1407])\n"
          ]
        },
        {
          "output_type": "stream",
          "name": "stderr",
          "text": [
            "<ipython-input-30-44e9a8f5fc20>:3: UserWarning: To copy construct from a tensor, it is recommended to use sourceTensor.clone().detach() or sourceTensor.clone().detach().requires_grad_(True), rather than torch.tensor(sourceTensor).\n",
            "  G = torch.tensor(steps)\n"
          ]
        }
      ],
      "source": [
        "import math\n",
        "steps = torch.arange(0, math.pi + 0.1, math.pi / 4)\n",
        "G = torch.tensor(steps)\n",
        "print('G:', G)\n",
        "print('Sine of G:',  torch.sin(G))\n",
        "print('Cosine of G:', torch.cos(G) )\n",
        "print('Tangent of G:', torch.tan(G) )\n",
        "print('Natural logarithm of G:',  torch.log(G))\n",
        "print('Exponential of G:', torch.exp(G))"
      ],
      "id": "4c22b354"
    },
    {
      "cell_type": "markdown",
      "metadata": {
        "id": "629eb94b"
      },
      "source": [
        "# <font color = 'green'>Q12: **Tensor Reduction Operations (1 Point)**\n",
        "\n",
        "1. Create a 3x2 tensor `H`.\n",
        "2. Compute the sum of `H`. Print the result and shape after taking sun.\n",
        "3. Then, perform the same operations along dimension 0 and dimension 1, printing the results and shapes.\n",
        "4. What do you observe? How the shape changes?"
      ],
      "id": "629eb94b"
    },
    {
      "cell_type": "code",
      "execution_count": 31,
      "metadata": {
        "id": "729d7275",
        "colab": {
          "base_uri": "https://localhost:8080/"
        },
        "outputId": "3da73dfd-57ea-4bcd-faac-c727437bbfad"
      },
      "outputs": [
        {
          "output_type": "stream",
          "name": "stdout",
          "text": [
            "H: tensor([[0.6187, 0.8682],\n",
            "        [0.9823, 0.9266],\n",
            "        [0.8175, 0.4885]])\n",
            "\n",
            "Shape of original Tensor H torch.Size([3, 2])\n",
            "\n",
            "Sum of H: tensor(4.7016)\n",
            "Shape after Sum of H: torch.Size([])\n",
            "\n",
            "Sum of H along dimension 0: tensor([2.4185, 2.2832])\n",
            "Shape after sum of H along dimension 0: torch.Size([2])\n",
            "\n",
            "Sum of H along dimension 1: tensor([1.4868, 1.9088, 1.3060])\n",
            "Shape after sum of H along dimension 1: torch.Size([2])\n",
            "\n"
          ]
        }
      ],
      "source": [
        "H = torch.rand(3, 2)\n",
        "print('H:', H, end = \"\\n\\n\")\n",
        "print('Shape of original Tensor H', H.shape, end = \"\\n\\n\")\n",
        "\n",
        "print('Sum of H:',  torch.sum(H))\n",
        "print('Shape after Sum of H:', torch.sum(H).shape, end = \"\\n\\n\")\n",
        "\n",
        "print('Sum of H along dimension 0:', torch.sum(H, dim=0))\n",
        "print('Shape after sum of H along dimension 0:',torch.sum(H, dim=0).shape, end = \"\\n\\n\")\n",
        "\n",
        "print('Sum of H along dimension 1:', torch.sum(H, dim=1) )\n",
        "print('Shape after sum of H along dimension 1:',torch.sum(H, dim=0).shape, end = \"\\n\\n\" )\n"
      ],
      "id": "729d7275"
    },
    {
      "cell_type": "markdown",
      "source": [
        "**Provide your observations on shape changes here**\n",
        "-After the sum of H, the torch size resulted in a scalar value, hence no dimensions.\n",
        "-Summing the two operations along the dimension 0 that is the rows, change the dimensions from 2D to 1D with 2 values.\n",
        "-Similarly, summing the two operations along the dimension 1, across the columns resulting in the reuction of dimensions again.\n"
      ],
      "metadata": {
        "id": "hfmDz2OLb8M2"
      },
      "id": "hfmDz2OLb8M2"
    },
    {
      "cell_type": "markdown",
      "metadata": {
        "id": "4a156a3a"
      },
      "source": [
        "# <font color = 'green'>**Q13: Working with Tensor Data Types (1 Point)**\n",
        "\n",
        "1. Create a tensor `I` of data type float with values `[1.0, 2.0, 3.0]`.\n",
        "2. Convert `I` to data type int and print the result.\n",
        "3. Explain in which scenarios it's necessary to be cautious about the data type of tensors."
      ],
      "id": "4a156a3a"
    },
    {
      "cell_type": "code",
      "execution_count": 32,
      "metadata": {
        "colab": {
          "base_uri": "https://localhost:8080/"
        },
        "id": "af427555",
        "outputId": "db6d4dd5-9514-4ec9-a7a4-5d80ba89fdc2"
      },
      "outputs": [
        {
          "output_type": "stream",
          "name": "stdout",
          "text": [
            "I: tensor([1., 2., 3.])\n",
            "I converted to int: tensor([1, 2, 3], dtype=torch.int32)\n"
          ]
        }
      ],
      "source": [
        "# Solution for Q16\n",
        "I =  torch.tensor([1.0,2.0,3.0])# CODE HERE\n",
        "print('I:', I)\n",
        "I_int =  I.to(torch.int)# CODE HERE\n",
        "print('I converted to int:', I_int)"
      ],
      "id": "af427555"
    },
    {
      "cell_type": "markdown",
      "source": [
        "**Your explanations here**\n",
        "We need to be cautious about the tensors when we have some specific scenarios like converting float to integer will result into loss of precision, but it will also save the memory and increase the performance etc. There are other things like compatibility, if not compatible can throw errors. If we want to do computations like differentiation these operations are not supported by int.\n",
        "\n"
      ],
      "metadata": {
        "id": "9yyx5WtweGNP"
      },
      "id": "9yyx5WtweGNP"
    },
    {
      "cell_type": "markdown",
      "metadata": {
        "id": "2TU6l0nC3EfW"
      },
      "source": [
        "# <font color = 'green'>**Q14. Speedtest for vectorization 1.5 Points** </font>\n",
        "\n",
        "Your goal is to measure the speed of linear algebra operations for different levels of vectorization.\n",
        "\n",
        "1. Construct two matrices $A$ and $B$ with Gaussian random entries of size $1024 \\times 1024$.\n",
        "1. Compute $C = A B$ using matrix-matrix operations and report the time. (Hint: Use torch.mm)\n",
        "1. Compute $C = A B$, treating $A$ as a matrix but computing the result for each column of $B$ one at a time. Report the time. (hint use torch.mv inside a for loop)\n",
        "1. Compute $C = A B$, treating $A$ and $B$ as collections of vectors. Report the time. (Hint: use torch.dot inside nested for loop)"
      ],
      "id": "2TU6l0nC3EfW"
    },
    {
      "cell_type": "code",
      "execution_count": 33,
      "metadata": {
        "id": "wkKjtX0HH2wz"
      },
      "outputs": [],
      "source": [
        "## Solution 1\n",
        "torch.manual_seed(42) # dod not chnage this\n",
        "A = torch.randn(1024, 1024)\n",
        "B = torch.randn(1024, 1024)"
      ],
      "id": "wkKjtX0HH2wz"
    },
    {
      "cell_type": "code",
      "execution_count": 34,
      "metadata": {
        "id": "kSMH_j5OD2ZB",
        "colab": {
          "base_uri": "https://localhost:8080/"
        },
        "outputId": "8b07906d-e755-49bb-ea45-8df3a3268f48"
      },
      "outputs": [
        {
          "output_type": "stream",
          "name": "stdout",
          "text": [
            "Matrix by matrix: 0.0490107536315918 seconds\n"
          ]
        }
      ],
      "source": [
        "## Solution 2\n",
        "start=time.time()\n",
        "\n",
        "C = torch.mm(A,B)\n",
        "\n",
        "print(\"Matrix by matrix: \" + str(time.time()-start) + \" seconds\")"
      ],
      "id": "kSMH_j5OD2ZB"
    },
    {
      "cell_type": "code",
      "execution_count": 35,
      "metadata": {
        "id": "-tU8yGBP-Crk",
        "colab": {
          "base_uri": "https://localhost:8080/"
        },
        "outputId": "83fd8e6d-1af9-448c-f98d-04bef4d3abd3"
      },
      "outputs": [
        {
          "output_type": "stream",
          "name": "stdout",
          "text": [
            "Matrix by vector: 37.24184536933899 seconds\n"
          ]
        }
      ],
      "source": [
        "## Solution 3\n",
        "C= torch.empty(1024,1024)\n",
        "start = time.time()\n",
        "\n",
        "for i in range(1024):\n",
        "  for j in range(1024):\n",
        "    C[i,j]=torch.dot(A[i,:], B[:,j])\n",
        "\n",
        "print(\"Matrix by vector: \" + str(time.time()-start) + \" seconds\")"
      ],
      "id": "-tU8yGBP-Crk"
    },
    {
      "cell_type": "code",
      "execution_count": 36,
      "metadata": {
        "id": "MFgJCFf6DUFK",
        "colab": {
          "base_uri": "https://localhost:8080/"
        },
        "outputId": "457e7fba-0a26-448c-fa9a-fc7abbb8868b"
      },
      "outputs": [
        {
          "output_type": "stream",
          "name": "stdout",
          "text": [
            "vector by vector: 0.3073573112487793 seconds\n"
          ]
        }
      ],
      "source": [
        "## Solution 4\n",
        "C= torch.empty(1024,1024)\n",
        "start = time.time()\n",
        "for i in range(1024):\n",
        "    C[:, i] = torch.mv(A, B[:, i])\n",
        "\n",
        "print(\"vector by vector: \" + str(time.time()-start) + \" seconds\")"
      ],
      "id": "MFgJCFf6DUFK"
    },
    {
      "cell_type": "markdown",
      "metadata": {
        "id": "TtYsJM4mJNdE"
      },
      "source": [
        "# <font color = 'green'>**Q15 : Redo Question 14 by using GPU - 1.5 Points**"
      ],
      "id": "TtYsJM4mJNdE"
    },
    {
      "cell_type": "markdown",
      "metadata": {
        "id": "fxJ1UlTf3Efb"
      },
      "source": [
        "<font size = 4, color = 'green'> **Using GPUs**\n",
        "\n",
        "How to use GPUs in Google Colab<br>\n",
        "In Google Colab -- Go to Runtime Tab at top -- select change runtime type -- for hardware accelartor choose GPU"
      ],
      "id": "fxJ1UlTf3Efb"
    },
    {
      "cell_type": "code",
      "execution_count": 2,
      "metadata": {
        "id": "_6ilpofMIe1e",
        "colab": {
          "base_uri": "https://localhost:8080/"
        },
        "outputId": "835adff1-4d29-4997-f71b-5efc9efc75a4"
      },
      "outputs": [
        {
          "output_type": "stream",
          "name": "stdout",
          "text": [
            "cuda:0\n"
          ]
        }
      ],
      "source": [
        "# Check if GPU is availaible\n",
        "import torch\n",
        "device = torch.device('cuda:0' if torch.cuda.is_available() else 'cpu')\n",
        "print(device)"
      ],
      "id": "_6ilpofMIe1e"
    },
    {
      "cell_type": "code",
      "execution_count": 3,
      "metadata": {
        "id": "4XMhjifbJcu0"
      },
      "outputs": [],
      "source": [
        "## Solution 1\n",
        "torch.manual_seed(42)\n",
        "A= torch.randn((1024, 1024),device=device)\n",
        "B= torch.randn((1024, 1024),device=device)"
      ],
      "id": "4XMhjifbJcu0"
    },
    {
      "cell_type": "code",
      "execution_count": 5,
      "metadata": {
        "id": "pn-ZKI7sK9Oh",
        "colab": {
          "base_uri": "https://localhost:8080/"
        },
        "outputId": "6d77ad6b-1150-494d-f7b9-338ca6556daf"
      },
      "outputs": [
        {
          "output_type": "stream",
          "name": "stdout",
          "text": [
            "Matrix by matrix: 0.1599569320678711 seconds\n"
          ]
        }
      ],
      "source": [
        "## Solution 2\n",
        "import time\n",
        "start=time.time()\n",
        "\n",
        "C = torch.mm(A, B)\n",
        "\n",
        "print(\"Matrix by matrix: \" + str(time.time()-start) + \" seconds\")\n"
      ],
      "id": "pn-ZKI7sK9Oh"
    },
    {
      "cell_type": "code",
      "execution_count": 6,
      "metadata": {
        "id": "GcHPGEitLL8i",
        "colab": {
          "base_uri": "https://localhost:8080/"
        },
        "outputId": "b9828fc2-d074-420e-c902-7da45aee371c"
      },
      "outputs": [
        {
          "output_type": "stream",
          "name": "stdout",
          "text": [
            "Matrix by vector: 0.17429423332214355 seconds\n"
          ]
        }
      ],
      "source": [
        "## Solution 3\n",
        "C= torch.empty(1024,1024, device = device)\n",
        "start = time.time()\n",
        "\n",
        "for i in range(1024):\n",
        "    C[:, i] = torch.mv(A, B[:, i])# code here\n",
        "\n",
        "print(\"Matrix by vector: \" + str(time.time()-start) + \" seconds\")\n"
      ],
      "id": "GcHPGEitLL8i"
    },
    {
      "cell_type": "code",
      "source": [],
      "metadata": {
        "id": "O4a4uDH02bTS"
      },
      "id": "O4a4uDH02bTS",
      "execution_count": null,
      "outputs": []
    },
    {
      "cell_type": "code",
      "execution_count": 7,
      "metadata": {
        "id": "wZ5LWSa2Lrdw",
        "colab": {
          "base_uri": "https://localhost:8080/"
        },
        "outputId": "26d76fdf-c931-4f30-89dd-90f79d2acaa4"
      },
      "outputs": [
        {
          "output_type": "stream",
          "name": "stdout",
          "text": [
            "vector by vector: 51.06902241706848 seconds\n"
          ]
        }
      ],
      "source": [
        "## Solution 4\n",
        "C= torch.empty(1024,1024, device = device)\n",
        "start = time.time()\n",
        "\n",
        "for i in range(1024):\n",
        "    for j in range(1024):\n",
        "        C[i, j] = torch.dot(A[i, :], B[:, j])\n",
        "\n",
        "print(\"vector by vector: \" + str(time.time()-start) + \" seconds\")"
      ],
      "id": "wZ5LWSa2Lrdw"
    }
  ],
  "metadata": {
    "accelerator": "GPU",
    "colab": {
      "provenance": [],
      "gpuType": "T4"
    },
    "kernelspec": {
      "display_name": "Python 3",
      "name": "python3"
    },
    "language_info": {
      "codemirror_mode": {
        "name": "ipython",
        "version": 3
      },
      "file_extension": ".py",
      "mimetype": "text/x-python",
      "name": "python",
      "nbconvert_exporter": "python",
      "pygments_lexer": "ipython3",
      "version": "3.9.13"
    }
  },
  "nbformat": 4,
  "nbformat_minor": 5
}